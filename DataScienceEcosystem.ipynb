{
 "cells": [
  {
   "cell_type": "markdown",
   "id": "f10bf405-24bd-4045-9f46-23748a3d6843",
   "metadata": {},
   "source": [
    "#  Data Science Tools and Ecosystem"
   ]
  },
  {
   "cell_type": "markdown",
   "id": "6b4c0cef-0053-42a4-b592-fcfaa46e62d6",
   "metadata": {},
   "source": [
    "In this notebook, Data Science Tools and Ecosystem are summarized."
   ]
  },
  {
   "cell_type": "markdown",
   "id": "b52649e1-6b5c-4977-93ef-e9b185983e6a",
   "metadata": {
    "tags": []
   },
   "source": [
    "__Objectives__\n",
    "- unordered list\n",
    "- popular languages for data science\n",
    "- calculate\n"
   ]
  },
  {
   "cell_type": "markdown",
   "id": "621a8ce3-5196-443b-b2f4-a57db385bd89",
   "metadata": {},
   "source": [
    "Some of the popular languages that Data Scientists use are:\n",
    "1. Python\n",
    "2. R\n",
    "3. Julia\n",
    "4. SQL"
   ]
  },
  {
   "cell_type": "markdown",
   "id": "cd16aa5e-6c13-4f5d-b806-0fac4910e43f",
   "metadata": {},
   "source": [
    "Some of the commonly used libraries used by Data Scientists include:\n",
    "1. Scientific Computing Libraries\n",
    "2. Visualization Libraries\n",
    "3. High-Level-Machine Learning and Deep Learning"
   ]
  },
  {
   "cell_type": "markdown",
   "id": "311459cd-14a4-482c-bf04-84879e689849",
   "metadata": {},
   "source": [
    "| Data Science Tools|\n",
    "|-------------------|\n",
    "| Jupyter Notebooks |\n",
    "| Rstudio|\n",
    "| Spyder |"
   ]
  },
  {
   "cell_type": "markdown",
   "id": "26a904a8-b970-4406-8c69-11cafbc11968",
   "metadata": {},
   "source": [
    "### Below are a few examples of evaluating arithmetic expressions in Python."
   ]
  },
  {
   "cell_type": "markdown",
   "id": "0a31d94a-84dd-4b6f-8379-fae6218d60a9",
   "metadata": {
    "tags": []
   },
   "source": [
    "# This a simple arithmetic expression to mutiply then add integers\n",
    "(3*4)+5"
   ]
  },
  {
   "cell_type": "code",
   "execution_count": 6,
   "id": "6169b0c6-c505-41bb-9b4c-a77554d72252",
   "metadata": {
    "tags": []
   },
   "outputs": [
    {
     "data": {
      "text/plain": [
       "3.3333333333333335"
      ]
     },
     "execution_count": 6,
     "metadata": {},
     "output_type": "execute_result"
    }
   ],
   "source": [
    "# This will convert 200 minutes to hours by diving by 60\n",
    "200  / 60"
   ]
  },
  {
   "cell_type": "markdown",
   "id": "25fec0a0-a816-4684-ba86-1bf16fc5cc0b",
   "metadata": {},
   "source": [
    "## Author Tomoya Kasagi "
   ]
  },
  {
   "cell_type": "code",
   "execution_count": null,
   "id": "a9e82ead-36c4-4a8e-adc3-de2358c23753",
   "metadata": {},
   "outputs": [],
   "source": []
  }
 ],
 "metadata": {
  "kernelspec": {
   "display_name": "Python",
   "language": "python",
   "name": "conda-env-python-py"
  },
  "language_info": {
   "codemirror_mode": {
    "name": "ipython",
    "version": 3
   },
   "file_extension": ".py",
   "mimetype": "text/x-python",
   "name": "python",
   "nbconvert_exporter": "python",
   "pygments_lexer": "ipython3",
   "version": "3.7.12"
  }
 },
 "nbformat": 4,
 "nbformat_minor": 5
}
